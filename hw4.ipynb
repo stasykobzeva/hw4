{
 "cells": [
  {
   "cell_type": "code",
   "execution_count": 7,
   "id": "c27b6534-bf21-41f9-8e9f-5e6f94a25f7f",
   "metadata": {},
   "outputs": [
    {
     "name": "stdout",
     "output_type": "stream",
     "text": [
      "Введите команду:  p\n",
      "Введите номер документа:  11-2\n"
     ]
    },
    {
     "name": "stdout",
     "output_type": "stream",
     "text": [
      "Владелец документа: Геннадий Покемонов\n"
     ]
    },
    {
     "name": "stdout",
     "output_type": "stream",
     "text": [
      "Введите команду:  s\n",
      "Введите номер документа:  10006\n"
     ]
    },
    {
     "name": "stdout",
     "output_type": "stream",
     "text": [
      "Документ хранится на полке: 2\n"
     ]
    },
    {
     "name": "stdout",
     "output_type": "stream",
     "text": [
      "Введите команду:  p\n",
      "Введите номер документа:  1\n"
     ]
    },
    {
     "name": "stdout",
     "output_type": "stream",
     "text": [
      "Документ не найден\n"
     ]
    },
    {
     "name": "stdout",
     "output_type": "stream",
     "text": [
      "Введите команду:  m\n"
     ]
    },
    {
     "name": "stdout",
     "output_type": "stream",
     "text": [
      "Неверная команда\n"
     ]
    },
    {
     "name": "stdout",
     "output_type": "stream",
     "text": [
      "Введите команду:  q\n"
     ]
    },
    {
     "name": "stdout",
     "output_type": "stream",
     "text": [
      "Завершение программы\n"
     ]
    }
   ],
   "source": [
    "documents = [\n",
    "    {'type': 'passport', 'number': '2207 876234', 'name': 'Василий Гупкин'},\n",
    "    {'type': 'invoice', 'number': '11-2', 'name': 'Геннадий Покемонов'},\n",
    "    {'type': 'insurance', 'number': '10006', 'name': 'Аристарх Павлов'}\n",
    "]\n",
    "\n",
    "directories = {\n",
    "    '1': ['2207 876234', '11-2'],\n",
    "    '2': ['10006'],\n",
    "    '3': []\n",
    "}\n",
    "\n",
    "def find_owner(doc_number):\n",
    "    for doc in documents:\n",
    "        if doc['number'] == doc_number:\n",
    "            return f\"Владелец документа: {doc['name']}\"\n",
    "    return \"Документ не найден\"\n",
    "\n",
    "def find_id(doc_number):\n",
    "    for id, docs in directories.items():\n",
    "        if doc_number in docs:\n",
    "            return f\"Документ хранится на полке: {id}\"\n",
    "    return \"Документ не найден на полках\"\n",
    "\n",
    "def main():\n",
    "    while True:\n",
    "        command = input(\"Введите команду: \")\n",
    "\n",
    "        if command == 'q':\n",
    "            print(\"Завершение программы\")\n",
    "            break\n",
    "\n",
    "        elif command == 'p':\n",
    "            doc_number = input(\"Введите номер документа: \")\n",
    "            print(find_owner(doc_number))\n",
    "\n",
    "        elif command == 's':\n",
    "            doc_number = input(\"Введите номер документа: \")\n",
    "            print(find_id(doc_number))\n",
    "\n",
    "\n",
    "        else:\n",
    "            print(\"Неверная команда\")\n",
    "\n",
    "main()"
   ]
  }
 ],
 "metadata": {
  "kernelspec": {
   "display_name": "Python 3 (ipykernel)",
   "language": "python",
   "name": "python3"
  },
  "language_info": {
   "codemirror_mode": {
    "name": "ipython",
    "version": 3
   },
   "file_extension": ".py",
   "mimetype": "text/x-python",
   "name": "python",
   "nbconvert_exporter": "python",
   "pygments_lexer": "ipython3",
   "version": "3.12.0"
  }
 },
 "nbformat": 4,
 "nbformat_minor": 5
}
